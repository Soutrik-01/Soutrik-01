{
  "nbformat": 4,
  "nbformat_minor": 0,
  "metadata": {
    "colab": {
      "name": "DAV_assignmentipynb",
      "provenance": [],
      "authorship_tag": "ABX9TyOeC3cN/34lx4a+P9TnYMst",
      "include_colab_link": true
    },
    "kernelspec": {
      "name": "python3",
      "display_name": "Python 3"
    },
    "language_info": {
      "name": "python"
    }
  },
  "cells": [
    {
      "cell_type": "markdown",
      "metadata": {
        "id": "view-in-github",
        "colab_type": "text"
      },
      "source": [
        "<a href=\"https://colab.research.google.com/github/Soutrik-01/Soutrik-01/blob/main/DAV_assignmentipynb.ipynb\" target=\"_parent\"><img src=\"https://colab.research.google.com/assets/colab-badge.svg\" alt=\"Open In Colab\"/></a>"
      ]
    },
    {
      "cell_type": "code",
      "execution_count": null,
      "metadata": {
        "id": "VOtY3iEohMFc"
      },
      "outputs": [],
      "source": [
        ""
      ]
    },
    {
      "cell_type": "code",
      "source": [
        "import pandas as pd\n",
        "import numpy as np"
      ],
      "metadata": {
        "id": "tA0-ADUYhYAl"
      },
      "execution_count": 2,
      "outputs": []
    },
    {
      "cell_type": "markdown",
      "source": [
        ""
      ],
      "metadata": {
        "id": "4DjoSvw-hNHN"
      }
    },
    {
      "cell_type": "code",
      "source": [
        "path = \"https://raw.githubusercontent.com/Soutrik-01/randomData/main/covid_data.csv\""
      ],
      "metadata": {
        "id": "vqjEXTYuh1_C"
      },
      "execution_count": null,
      "outputs": []
    },
    {
      "cell_type": "code",
      "source": [
        "df = pd.read_csv(path, encoding='ISO-8859-1')"
      ],
      "metadata": {
        "id": "dAyJ1nqfh27p"
      },
      "execution_count": null,
      "outputs": []
    },
    {
      "cell_type": "code",
      "source": [
        "df.columns"
      ],
      "metadata": {
        "colab": {
          "base_uri": "https://localhost:8080/"
        },
        "id": "7QAym8UDiowg",
        "outputId": "730ca4e7-3e08-486a-97a9-c1b72f038d1c"
      },
      "execution_count": null,
      "outputs": [
        {
          "output_type": "execute_result",
          "data": {
            "text/plain": [
              "Index(['Date_reported', 'Country_code', 'Country', 'WHO_region', 'New_cases',\n",
              "       'Cumulative_cases', 'New_deaths', 'Cumulative_deaths'],\n",
              "      dtype='object')"
            ]
          },
          "metadata": {},
          "execution_count": 28
        }
      ]
    },
    {
      "cell_type": "code",
      "source": [
        "newData = df[df['Date_reported']=='03-06-2022']"
      ],
      "metadata": {
        "id": "5kR4qHfbpyPz"
      },
      "execution_count": null,
      "outputs": []
    },
    {
      "cell_type": "code",
      "source": [
        "print(newData)"
      ],
      "metadata": {
        "colab": {
          "base_uri": "https://localhost:8080/"
        },
        "id": "mhVbtgOBq7aQ",
        "outputId": "d382f817-2220-47c1-fedc-291ee38095fe"
      },
      "execution_count": null,
      "outputs": [
        {
          "output_type": "stream",
          "name": "stdout",
          "text": [
            "       Date_reported Country_code            Country WHO_region  New_cases  \\\n",
            "882       03-06-2022           AF        Afghanistan       EMRO          0   \n",
            "1765      03-06-2022           AL            Albania       EURO         54   \n",
            "2648      03-06-2022           DZ            Algeria       AFRO          2   \n",
            "3531      03-06-2022           AS     American Samoa       WPRO          0   \n",
            "4414      03-06-2022           AD            Andorra       EURO        173   \n",
            "...              ...          ...                ...        ...        ...   \n",
            "205738    03-06-2022           VN           Viet Nam       WPRO       2208   \n",
            "206621    03-06-2022           WF  Wallis and Futuna       WPRO          0   \n",
            "207504    03-06-2022           YE              Yemen       EMRO          0   \n",
            "208387    03-06-2022           ZM             Zambia       AFRO          0   \n",
            "209270    03-06-2022           ZW           Zimbabwe       AFRO          0   \n",
            "\n",
            "        Cumulative_cases  New_deaths  Cumulative_deaths  \n",
            "882               180419           0               7707  \n",
            "1765              276275           0               3497  \n",
            "2648              265889           0               6875  \n",
            "3531                6192           0                 31  \n",
            "4414               43067           0                153  \n",
            "...                  ...         ...                ...  \n",
            "205738          10722634           1              43080  \n",
            "206621               454           0                  7  \n",
            "207504             11822           0               2149  \n",
            "208387            321779           0               3987  \n",
            "209270            251092           0               5500  \n",
            "\n",
            "[237 rows x 8 columns]\n"
          ]
        }
      ]
    },
    {
      "cell_type": "code",
      "source": [
        "newData.shape"
      ],
      "metadata": {
        "colab": {
          "base_uri": "https://localhost:8080/"
        },
        "id": "tE2ewHi9r9U1",
        "outputId": "57308138-f843-45fe-db69-b35ff73c8ffa"
      },
      "execution_count": null,
      "outputs": [
        {
          "output_type": "execute_result",
          "data": {
            "text/plain": [
              "(237, 8)"
            ]
          },
          "metadata": {},
          "execution_count": 39
        }
      ]
    },
    {
      "cell_type": "code",
      "source": [
        "AsianNewData = newData[newData['WHO_region']=='SEARO']"
      ],
      "metadata": {
        "id": "SIosBh_xsEWD"
      },
      "execution_count": null,
      "outputs": []
    },
    {
      "cell_type": "code",
      "source": [
        "print(AsianNewData)"
      ],
      "metadata": {
        "colab": {
          "base_uri": "https://localhost:8080/"
        },
        "id": "PWI6Tp4TsWYb",
        "outputId": "c3d600eb-b0a6-4f72-d99b-2c8a59f871a5"
      },
      "execution_count": null,
      "outputs": [
        {
          "output_type": "stream",
          "name": "stdout",
          "text": [
            "       Date_reported Country_code                                Country  \\\n",
            "15010     03-06-2022           BD                             Bangladesh   \n",
            "21191     03-06-2022           BT                                 Bhutan   \n",
            "48564     03-06-2022           KP  Democratic People's Republic of Korea   \n",
            "85650     03-06-2022           IN                                  India   \n",
            "86533     03-06-2022           ID                              Indonesia   \n",
            "112140    03-06-2022           MV                               Maldives   \n",
            "126268    03-06-2022           MM                                Myanmar   \n",
            "128917    03-06-2022           NP                                  Nepal   \n",
            "180131    03-06-2022           LK                              Sri Lanka   \n",
            "186312    03-06-2022           TH                               Thailand   \n",
            "188078    03-06-2022           TL                            Timor-Leste   \n",
            "\n",
            "       WHO_region  New_cases  Cumulative_cases  New_deaths  Cumulative_deaths  \n",
            "15010       SEARO         22           1953563           0              29131  \n",
            "21191       SEARO          0             59628           0                 21  \n",
            "48564       SEARO          0                 0           0                  0  \n",
            "85650       SEARO       4041          43168585          10             524651  \n",
            "86533       SEARO        372           6056017           4             156604  \n",
            "112140      SEARO          0            179753           0                298  \n",
            "126268      SEARO          0            613355           0              19434  \n",
            "128917      SEARO         19            979182           0              11952  \n",
            "180131      SEARO          0            663845           0              16518  \n",
            "186312      SEARO       2976           4460556          32              30113  \n",
            "188078      SEARO          4             22921           0                131  \n"
          ]
        }
      ]
    },
    {
      "cell_type": "code",
      "source": [
        "df.dtypes\n"
      ],
      "metadata": {
        "id": "vqgBK8Feslao",
        "outputId": "1b37ceb7-4a36-4fe2-baa7-d95fc38a2d3a",
        "colab": {
          "base_uri": "https://localhost:8080/"
        }
      },
      "execution_count": null,
      "outputs": [
        {
          "output_type": "execute_result",
          "data": {
            "text/plain": [
              "Date_reported        object\n",
              "Country_code         object\n",
              "Country              object\n",
              "WHO_region           object\n",
              "New_cases             int64\n",
              "Cumulative_cases      int64\n",
              "New_deaths            int64\n",
              "Cumulative_deaths     int64\n",
              "dtype: object"
            ]
          },
          "metadata": {},
          "execution_count": 42
        }
      ]
    },
    {
      "cell_type": "code",
      "source": [
        "newData.describe()"
      ],
      "metadata": {
        "colab": {
          "base_uri": "https://localhost:8080/",
          "height": 165
        },
        "id": "ddRQxE4YWUr3",
        "outputId": "ad9839c4-9266-4a72-c872-4a999d88d24b"
      },
      "execution_count": 1,
      "outputs": [
        {
          "output_type": "error",
          "ename": "NameError",
          "evalue": "ignored",
          "traceback": [
            "\u001b[0;31m---------------------------------------------------------------------------\u001b[0m",
            "\u001b[0;31mNameError\u001b[0m                                 Traceback (most recent call last)",
            "\u001b[0;32m<ipython-input-1-d961d91cec68>\u001b[0m in \u001b[0;36m<module>\u001b[0;34m()\u001b[0m\n\u001b[0;32m----> 1\u001b[0;31m \u001b[0mnewData\u001b[0m\u001b[0;34m.\u001b[0m\u001b[0mdescribe\u001b[0m\u001b[0;34m(\u001b[0m\u001b[0;34m)\u001b[0m\u001b[0;34m\u001b[0m\u001b[0;34m\u001b[0m\u001b[0m\n\u001b[0m",
            "\u001b[0;31mNameError\u001b[0m: name 'newData' is not defined"
          ]
        }
      ]
    }
  ]
}